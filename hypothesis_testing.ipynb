{
 "cells": [
  {
   "cell_type": "markdown",
   "id": "5b3249f4-c34e-4bce-a24b-4030adc4505b",
   "metadata": {},
   "source": [
    "# Hypothesis Testing \n",
    "\n",
    "Exploring the Titanic survival dataset to demonstrate **Exploratory Data Analysis (EDA)** and **Hypothesis Testing**. "
   ]
  },
  {
   "cell_type": "code",
   "execution_count": 2,
   "id": "debb5164-99c9-4af5-85b4-22e5f6d54032",
   "metadata": {},
   "outputs": [],
   "source": [
    "import numpy as np\n",
    "import pandas as pd\n",
    "import matplotlib.pyplot as plt"
   ]
  },
  {
   "cell_type": "code",
   "execution_count": 3,
   "id": "85647661-c17d-45b9-8009-8bbc493e92b7",
   "metadata": {},
   "outputs": [
    {
     "data": {
      "text/html": [
       "<div>\n",
       "<style scoped>\n",
       "    .dataframe tbody tr th:only-of-type {\n",
       "        vertical-align: middle;\n",
       "    }\n",
       "\n",
       "    .dataframe tbody tr th {\n",
       "        vertical-align: top;\n",
       "    }\n",
       "\n",
       "    .dataframe thead th {\n",
       "        text-align: right;\n",
       "    }\n",
       "</style>\n",
       "<table border=\"1\" class=\"dataframe\">\n",
       "  <thead>\n",
       "    <tr style=\"text-align: right;\">\n",
       "      <th></th>\n",
       "      <th>PassengerId</th>\n",
       "      <th>Survived</th>\n",
       "      <th>Pclass</th>\n",
       "      <th>Name</th>\n",
       "      <th>Sex</th>\n",
       "      <th>Age</th>\n",
       "      <th>SibSp</th>\n",
       "      <th>Parch</th>\n",
       "      <th>Ticket</th>\n",
       "      <th>Fare</th>\n",
       "      <th>Cabin</th>\n",
       "      <th>Embarked</th>\n",
       "    </tr>\n",
       "  </thead>\n",
       "  <tbody>\n",
       "    <tr>\n",
       "      <th>0</th>\n",
       "      <td>1</td>\n",
       "      <td>0</td>\n",
       "      <td>3</td>\n",
       "      <td>Braund, Mr. Owen Harris</td>\n",
       "      <td>male</td>\n",
       "      <td>22.0</td>\n",
       "      <td>1</td>\n",
       "      <td>0</td>\n",
       "      <td>A/5 21171</td>\n",
       "      <td>7.2500</td>\n",
       "      <td>NaN</td>\n",
       "      <td>S</td>\n",
       "    </tr>\n",
       "    <tr>\n",
       "      <th>1</th>\n",
       "      <td>2</td>\n",
       "      <td>1</td>\n",
       "      <td>1</td>\n",
       "      <td>Cumings, Mrs. John Bradley (Florence Briggs Th...</td>\n",
       "      <td>female</td>\n",
       "      <td>38.0</td>\n",
       "      <td>1</td>\n",
       "      <td>0</td>\n",
       "      <td>PC 17599</td>\n",
       "      <td>71.2833</td>\n",
       "      <td>C85</td>\n",
       "      <td>C</td>\n",
       "    </tr>\n",
       "    <tr>\n",
       "      <th>2</th>\n",
       "      <td>3</td>\n",
       "      <td>1</td>\n",
       "      <td>3</td>\n",
       "      <td>Heikkinen, Miss. Laina</td>\n",
       "      <td>female</td>\n",
       "      <td>26.0</td>\n",
       "      <td>0</td>\n",
       "      <td>0</td>\n",
       "      <td>STON/O2. 3101282</td>\n",
       "      <td>7.9250</td>\n",
       "      <td>NaN</td>\n",
       "      <td>S</td>\n",
       "    </tr>\n",
       "    <tr>\n",
       "      <th>3</th>\n",
       "      <td>4</td>\n",
       "      <td>1</td>\n",
       "      <td>1</td>\n",
       "      <td>Futrelle, Mrs. Jacques Heath (Lily May Peel)</td>\n",
       "      <td>female</td>\n",
       "      <td>35.0</td>\n",
       "      <td>1</td>\n",
       "      <td>0</td>\n",
       "      <td>113803</td>\n",
       "      <td>53.1000</td>\n",
       "      <td>C123</td>\n",
       "      <td>S</td>\n",
       "    </tr>\n",
       "    <tr>\n",
       "      <th>4</th>\n",
       "      <td>5</td>\n",
       "      <td>0</td>\n",
       "      <td>3</td>\n",
       "      <td>Allen, Mr. William Henry</td>\n",
       "      <td>male</td>\n",
       "      <td>35.0</td>\n",
       "      <td>0</td>\n",
       "      <td>0</td>\n",
       "      <td>373450</td>\n",
       "      <td>8.0500</td>\n",
       "      <td>NaN</td>\n",
       "      <td>S</td>\n",
       "    </tr>\n",
       "  </tbody>\n",
       "</table>\n",
       "</div>"
      ],
      "text/plain": [
       "   PassengerId  Survived  Pclass   \n",
       "0            1         0       3  \\\n",
       "1            2         1       1   \n",
       "2            3         1       3   \n",
       "3            4         1       1   \n",
       "4            5         0       3   \n",
       "\n",
       "                                                Name     Sex   Age  SibSp   \n",
       "0                            Braund, Mr. Owen Harris    male  22.0      1  \\\n",
       "1  Cumings, Mrs. John Bradley (Florence Briggs Th...  female  38.0      1   \n",
       "2                             Heikkinen, Miss. Laina  female  26.0      0   \n",
       "3       Futrelle, Mrs. Jacques Heath (Lily May Peel)  female  35.0      1   \n",
       "4                           Allen, Mr. William Henry    male  35.0      0   \n",
       "\n",
       "   Parch            Ticket     Fare Cabin Embarked  \n",
       "0      0         A/5 21171   7.2500   NaN        S  \n",
       "1      0          PC 17599  71.2833   C85        C  \n",
       "2      0  STON/O2. 3101282   7.9250   NaN        S  \n",
       "3      0            113803  53.1000  C123        S  \n",
       "4      0            373450   8.0500   NaN        S  "
      ]
     },
     "execution_count": 3,
     "metadata": {},
     "output_type": "execute_result"
    }
   ],
   "source": [
    "data_raw = pd.read_csv(\"data/titanic.csv\")\n",
    "data_raw.head()"
   ]
  },
  {
   "cell_type": "markdown",
   "id": "e1f1064c-70bf-4f04-ba2e-bf2624d4e156",
   "metadata": {},
   "source": [
    "## Structure of Data \n",
    "\n",
    "Small data is a small ratio of **n** to **p**. \n",
    "\n",
    "Where **n: number of rows** and **p: number of columns (or variables)** "
   ]
  },
  {
   "cell_type": "code",
   "execution_count": 4,
   "id": "1070de70-9189-4c9d-8e3c-59552348183f",
   "metadata": {},
   "outputs": [
    {
     "name": "stdout",
     "output_type": "stream",
     "text": [
      "<class 'pandas.core.frame.DataFrame'>\n",
      "RangeIndex: 891 entries, 0 to 890\n",
      "Data columns (total 12 columns):\n",
      " #   Column       Non-Null Count  Dtype  \n",
      "---  ------       --------------  -----  \n",
      " 0   PassengerId  891 non-null    int64  \n",
      " 1   Survived     891 non-null    int64  \n",
      " 2   Pclass       891 non-null    int64  \n",
      " 3   Name         891 non-null    object \n",
      " 4   Sex          891 non-null    object \n",
      " 5   Age          714 non-null    float64\n",
      " 6   SibSp        891 non-null    int64  \n",
      " 7   Parch        891 non-null    int64  \n",
      " 8   Ticket       891 non-null    object \n",
      " 9   Fare         891 non-null    float64\n",
      " 10  Cabin        204 non-null    object \n",
      " 11  Embarked     889 non-null    object \n",
      "dtypes: float64(2), int64(5), object(5)\n",
      "memory usage: 83.7+ KB\n"
     ]
    }
   ],
   "source": [
    "data_raw.info()"
   ]
  },
  {
   "cell_type": "markdown",
   "id": "7368773c-4da8-4cf8-b064-ee41c3179d01",
   "metadata": {},
   "source": [
    "#### Visualize Multiple Dimensional Data\n",
    "\n",
    "With the following, how would we summarize this multiple dimensional, non-Linear data with a simple Linear Regression model? \n",
    "\n",
    "The truth is it happens all of the time in research! More on this and how using Linear and parametric models for non-Linear and complex data increases Bias and other risk in modeling system. "
   ]
  },
  {
   "cell_type": "code",
   "execution_count": 5,
   "id": "7fe15eee-e06e-47e6-be16-97f81ec99f73",
   "metadata": {},
   "outputs": [
    {
     "data": {
      "text/plain": [
       "<Axes: xlabel='Survived', ylabel='Parch'>"
      ]
     },
     "execution_count": 5,
     "metadata": {},
     "output_type": "execute_result"
    },
    {
     "data": {
      "image/png": "[encoded data removed]",
      "text/plain": [
       "<Figure size 640x480 with 1 Axes>"
      ]
     },
     "metadata": {},
     "output_type": "display_data"
    }
   ],
   "source": [
    "import seaborn as sns\n",
    "\n",
    "sns.boxplot(x = data_raw[\"Survived\"], y = data_raw[\"Parch\"], hue = data_raw[\"Sex\"])"
   ]
  },
  {
   "cell_type": "code",
   "execution_count": 6,
   "id": "768f3d14-c34f-4573-bde3-ca000a3884fe",
   "metadata": {},
   "outputs": [
    {
     "data": {
      "text/plain": [
       "<Axes: xlabel='Age', ylabel='Count'>"
      ]
     },
     "execution_count": 6,
     "metadata": {},
     "output_type": "execute_result"
    },
    {
     "data": {
      "image/png": "[encoded data removed]",
      "text/plain": [
       "<Figure size 640x480 with 1 Axes>"
      ]
     },
     "metadata": {},
     "output_type": "display_data"
    }
   ],
   "source": [
    "#plt.hist(data_raw[\"Age\"])\n",
    "sns.histplot(data_raw[\"Age\"])\n"
   ]
  },
  {
   "cell_type": "code",
   "execution_count": 7,
   "id": "35d417f7-3caa-418f-9e51-bffca7b11403",
   "metadata": {},
   "outputs": [],
   "source": [
    "#"
   ]
  },
  {
   "cell_type": "markdown",
   "id": "52714b08-764d-43de-914a-16afcdef3799",
   "metadata": {},
   "source": [
    "## Breakdown of Titanic Data \n",
    "\n",
    "#### Predicting Survivorship\n",
    "\n",
    "We are going to predict the target **Survived**, *i.e. we are using Survived as our dependent variable.* Our target variable is dependent on the **features** of the system we are modeling. In other words, our system is the passenger population of the Titanic. There were over 2,000 people aboard the Titanic when it sank and this data set is **891 people**. Thus, just as all data sets are, this data is a sample of a population. When we perform statistical analysis of any kind, we are modeling patterns that may exist in the actual population. \n",
    "\n",
    "We are going to assume that the features of the data are each independent dimensions. We are assuming the boolean variable Survived is dependent on all of those independent dimensions. There are a few concepts we are going to tackle with this notebook. \n",
    "\n",
    "#### Concepts in this Notebook\n",
    "\n",
    "1. Encoding non-numeric variables \n",
    "2. Parametric vs Non-parametric \n",
    "3. Type I vs II errors\n",
    "4. Feature engineer: filling in missing data \n",
    "5. Feature engineer: scale and normalize data\n",
    "6. Checking assumptions of parametric models\n"
   ]
  },
  {
   "cell_type": "code",
   "execution_count": 8,
   "id": "53862175-ad80-4399-8f9b-6c398d2308b3",
   "metadata": {},
   "outputs": [],
   "source": [
    "# Encode categorical variables into numeric \n",
    "\n",
    "def encode_cat_var(col):\n",
    "    categories = unique(col)\n",
    "    feats = {}\n",
    "    for cat in categories:\n",
    "        binn = (data == cat)\n",
    "        feats[\"%s_%s\" % (col.name, cat)] = binn.astype(\"int\")\n",
    "    return pd.DataFrame(feats)\n",
    "\n",
    "def get_encoded_features(dat):\n",
    "    \"\"\"\n",
    "        Encode categorcial features into numeric\n",
    "    \"\"\"\n",
    "    Y = dat[\"Survived\"]\n",
    "    X = dat.drop([\"Survived\", \"PassengerId\", \"Cabin\", \"Ticket\", \"Name\"], axis = 1)\n",
    "    X[\"EnSex\"] = X[\"Sex\"].apply(lambda x: 1 if x == \"male\" else 0)\n",
    "    X[\"En_Q\"] = X[\"Embarked\"].apply(lambda x: 1 if x == \"Q\" else 0)\n",
    "    X[\"En_C\"] = X[\"Embarked\"].apply(lambda x: 1 if x == \"C\" else 0)\n",
    "    X[\"En_S\"] = X[\"Embarked\"].apply(lambda x: 1 if x == \"S\" else 0)\n",
    "    X = X.drop([\"Embarked\", \"Sex\"], axis = 1)\n",
    "    return X, Y\n",
    "\n"
   ]
  },
  {
   "cell_type": "code",
   "execution_count": null,
   "id": "868b1015-86c2-4c9e-b677-0386ad7ea793",
   "metadata": {},
   "outputs": [],
   "source": []
  },
  {
   "cell_type": "code",
   "execution_count": 12,
   "id": "db96dd12-d031-409e-b2ec-4b488d3dcbeb",
   "metadata": {},
   "outputs": [],
   "source": [
    "X, Y = get_encoded_features(data_raw)"
   ]
  },
  {
   "cell_type": "code",
   "execution_count": 13,
   "id": "b3ea09d9-f29b-4b15-8030-c264c75c602e",
   "metadata": {},
   "outputs": [
    {
     "data": {
      "text/html": [
       "<div>\n",
       "<style scoped>\n",
       "    .dataframe tbody tr th:only-of-type {\n",
       "        vertical-align: middle;\n",
       "    }\n",
       "\n",
       "    .dataframe tbody tr th {\n",
       "        vertical-align: top;\n",
       "    }\n",
       "\n",
       "    .dataframe thead th {\n",
       "        text-align: right;\n",
       "    }\n",
       "</style>\n",
       "<table border=\"1\" class=\"dataframe\">\n",
       "  <thead>\n",
       "    <tr style=\"text-align: right;\">\n",
       "      <th></th>\n",
       "      <th>Pclass</th>\n",
       "      <th>Age</th>\n",
       "      <th>SibSp</th>\n",
       "      <th>Parch</th>\n",
       "      <th>Fare</th>\n",
       "      <th>EnSex</th>\n",
       "      <th>En_Q</th>\n",
       "      <th>En_C</th>\n",
       "      <th>En_S</th>\n",
       "    </tr>\n",
       "  </thead>\n",
       "  <tbody>\n",
       "    <tr>\n",
       "      <th>0</th>\n",
       "      <td>3</td>\n",
       "      <td>22.0</td>\n",
       "      <td>1</td>\n",
       "      <td>0</td>\n",
       "      <td>7.2500</td>\n",
       "      <td>1</td>\n",
       "      <td>0</td>\n",
       "      <td>0</td>\n",
       "      <td>1</td>\n",
       "    </tr>\n",
       "    <tr>\n",
       "      <th>1</th>\n",
       "      <td>1</td>\n",
       "      <td>38.0</td>\n",
       "      <td>1</td>\n",
       "      <td>0</td>\n",
       "      <td>71.2833</td>\n",
       "      <td>0</td>\n",
       "      <td>0</td>\n",
       "      <td>1</td>\n",
       "      <td>0</td>\n",
       "    </tr>\n",
       "    <tr>\n",
       "      <th>2</th>\n",
       "      <td>3</td>\n",
       "      <td>26.0</td>\n",
       "      <td>0</td>\n",
       "      <td>0</td>\n",
       "      <td>7.9250</td>\n",
       "      <td>0</td>\n",
       "      <td>0</td>\n",
       "      <td>0</td>\n",
       "      <td>1</td>\n",
       "    </tr>\n",
       "    <tr>\n",
       "      <th>3</th>\n",
       "      <td>1</td>\n",
       "      <td>35.0</td>\n",
       "      <td>1</td>\n",
       "      <td>0</td>\n",
       "      <td>53.1000</td>\n",
       "      <td>0</td>\n",
       "      <td>0</td>\n",
       "      <td>0</td>\n",
       "      <td>1</td>\n",
       "    </tr>\n",
       "    <tr>\n",
       "      <th>4</th>\n",
       "      <td>3</td>\n",
       "      <td>35.0</td>\n",
       "      <td>0</td>\n",
       "      <td>0</td>\n",
       "      <td>8.0500</td>\n",
       "      <td>1</td>\n",
       "      <td>0</td>\n",
       "      <td>0</td>\n",
       "      <td>1</td>\n",
       "    </tr>\n",
       "  </tbody>\n",
       "</table>\n",
       "</div>"
      ],
      "text/plain": [
       "   Pclass   Age  SibSp  Parch     Fare  EnSex  En_Q  En_C  En_S\n",
       "0       3  22.0      1      0   7.2500      1     0     0     1\n",
       "1       1  38.0      1      0  71.2833      0     0     1     0\n",
       "2       3  26.0      0      0   7.9250      0     0     0     1\n",
       "3       1  35.0      1      0  53.1000      0     0     0     1\n",
       "4       3  35.0      0      0   8.0500      1     0     0     1"
      ]
     },
     "execution_count": 13,
     "metadata": {},
     "output_type": "execute_result"
    }
   ],
   "source": [
    "X.head()"
   ]
  },
  {
   "cell_type": "markdown",
   "id": "3b8126ba-4a19-4cb4-a5a0-26b6b6114e07",
   "metadata": {},
   "source": [
    "### Parametric vs Nonparametric models \n",
    "\n",
    "In general, we make assumptions about the structure of the population where we are pulling data from (**sampling from**). Another way to say this is that we make assumptions about the distribution of the variables from the population we are making generalizations of. \n",
    "\n",
    "These assumptions usually come from our models, and those breakdown into two main categories: **parametric vs nonparametric models**. Parametric models are ones that assume a normal distribution in the population where data is sampled from among other assumptions. **Linear Regression** amd a lot of standard or classical statistical models are parametric. \n",
    "\n",
    "Non-parametric models do not assume as many things about the structure of the population where data is pulled from. Many more **complex models and analysis are nonparametric**. In a way, assuming more strict criteria about the nature of the data you are modeling allows for higher interpretability. Parametric models and analysis tend to have easier and more direct ways to interpret results. For example, many **tests that generate p-values are parametric**. These values state quite simply, whether or not there is a statistical significance in this variable for finding a pattern in the data / population. \n",
    "\n",
    "If you think about this, this is quite a leap from assumptions about structure of data to assumptions about how a complex system works. Nonparametric models tend to have less explanatory power in a direct way. In other words, **nonparametric models and analysis tend to be complicated or more difficult to explain**. \n",
    "\n"
   ]
  },
  {
   "cell_type": "markdown",
   "id": "93c88142-ab6e-425b-b6b4-e7a5382e8359",
   "metadata": {},
   "source": [
    "### Error Types \n",
    "\n",
    "There are two major types of error that one can make in analysis. \n",
    "\n",
    "#### Type I \n",
    "\n",
    "These are **false-positives**. You incorrectly find significance when there is none. You believe there is a pattern when there is none. \n",
    "\n",
    "In terms of hypothesis testing: \n",
    "\n",
    "this is when you reject a null hypothesis that is actually true in a population. The null hypothesis is that there is no difference in the population between whatever you are looking at. So, in other words, you reject that there is no difference, thus, accepting that there IS a difference, when there is none. \n",
    "\n",
    "#### Type II \n",
    "\n",
    "These are **false-negatives**. You incorrectly find no significance when there is some there. You believe there is no pattern when there is one. \n",
    "\n",
    "In terms of hypothesis testing: \n",
    "\n",
    "this is when you fail to reject a null hypothesis that is actually untrue in a population. The null hypothesis is that there is no difference in the population between whatever you are looking at. So, in other words, you fail to reject that there is no difference, thus, accepting that there is no difference that is actually there. "
   ]
  },
  {
   "cell_type": "markdown",
   "id": "71be9834-46dc-4d89-8279-f76768d57944",
   "metadata": {},
   "source": [
    "## Visualize Type I and II Errors\n",
    "\n",
    "We are going to revisit this visualization below. "
   ]
  },
  {
   "cell_type": "code",
   "execution_count": 14,
   "id": "a71cbc19-63ed-404a-8dad-dbe33339e118",
   "metadata": {},
   "outputs": [
    {
     "data": {
      "image/png": "[encoded data removed]",
      "text/plain": [
       "<Figure size 1200x1000 with 1 Axes>"
      ]
     },
     "metadata": {},
     "output_type": "display_data"
    }
   ],
   "source": [
    "from scipy import stats\n",
    "\n",
    "plt.figure(figsize=(12,10))\n",
    "\n",
    "\n",
    "plt.fill_between(x=np.arange(-4,-2,0.01), \n",
    "                 y1= stats.norm.pdf(np.arange(-4,-2,0.01)) ,\n",
    "                 facecolor='red',\n",
    "                 alpha=0.35)\n",
    "\n",
    "plt.fill_between(x=np.arange(-2,2,0.01), \n",
    "                 y1= stats.norm.pdf(np.arange(-2,2,0.01)) ,\n",
    "                 facecolor='grey',\n",
    "                 alpha=0.35)\n",
    "\n",
    "plt.fill_between(x=np.arange(2,4,0.01), \n",
    "                 y1= stats.norm.pdf(np.arange(2,4,0.01)) ,\n",
    "                 facecolor='red',\n",
    "                 alpha=0.5)\n",
    "\n",
    "plt.fill_between(x=np.arange(-4,-2,0.01), \n",
    "                 y1= stats.norm.pdf(np.arange(-4,-2,0.01),loc=3, scale=2) ,\n",
    "                 facecolor='grey',\n",
    "                 alpha=0.35)\n",
    "\n",
    "plt.fill_between(x=np.arange(-2,2,0.01), \n",
    "                 y1= stats.norm.pdf(np.arange(-2,2,0.01),loc=3, scale=2) ,\n",
    "                 facecolor='blue',\n",
    "                 alpha=0.35)\n",
    "\n",
    "plt.fill_between(x=np.arange(2,10,0.01), \n",
    "                 y1= stats.norm.pdf(np.arange(2,10,0.01),loc=3, scale=2),\n",
    "                 facecolor='grey',\n",
    "                 alpha=0.35)\n",
    "\n",
    "plt.text(x=-0.8, y=0.15, s= \"Null Hypothesis\")\n",
    "plt.text(x=2.5, y=0.13, s= \"Alternative\")\n",
    "plt.text(x=2.1, y=0.01, s= \"Type 1 Error\")\n",
    "plt.text(x=-3.2, y=0.01, s= \"Type 1 Error\")\n",
    "plt.text(x=0, y=0.02, s= \"Type 2 Error\");\n"
   ]
  },
  {
   "cell_type": "code",
   "execution_count": 15,
   "id": "e0b65e0e-3210-4761-b351-5ae60eb4e45a",
   "metadata": {},
   "outputs": [
    {
     "name": "stdout",
     "output_type": "stream",
     "text": [
      "<class 'pandas.core.frame.DataFrame'>\n",
      "RangeIndex: 891 entries, 0 to 890\n",
      "Data columns (total 9 columns):\n",
      " #   Column  Non-Null Count  Dtype  \n",
      "---  ------  --------------  -----  \n",
      " 0   Pclass  891 non-null    int64  \n",
      " 1   Age     714 non-null    float64\n",
      " 2   SibSp   891 non-null    int64  \n",
      " 3   Parch   891 non-null    int64  \n",
      " 4   Fare    891 non-null    float64\n",
      " 5   EnSex   891 non-null    int64  \n",
      " 6   En_Q    891 non-null    int64  \n",
      " 7   En_C    891 non-null    int64  \n",
      " 8   En_S    891 non-null    int64  \n",
      "dtypes: float64(2), int64(7)\n",
      "memory usage: 62.8 KB\n"
     ]
    }
   ],
   "source": [
    "X.info()"
   ]
  },
  {
   "cell_type": "code",
   "execution_count": 16,
   "id": "62fc2368-ddd8-436f-a67c-567b768c3ddc",
   "metadata": {},
   "outputs": [
    {
     "data": {
      "text/html": [
       "<div>\n",
       "<style scoped>\n",
       "    .dataframe tbody tr th:only-of-type {\n",
       "        vertical-align: middle;\n",
       "    }\n",
       "\n",
       "    .dataframe tbody tr th {\n",
       "        vertical-align: top;\n",
       "    }\n",
       "\n",
       "    .dataframe thead th {\n",
       "        text-align: right;\n",
       "    }\n",
       "</style>\n",
       "<table border=\"1\" class=\"dataframe\">\n",
       "  <thead>\n",
       "    <tr style=\"text-align: right;\">\n",
       "      <th></th>\n",
       "      <th>count</th>\n",
       "      <th>mean</th>\n",
       "      <th>std</th>\n",
       "      <th>min</th>\n",
       "      <th>25%</th>\n",
       "      <th>50%</th>\n",
       "      <th>75%</th>\n",
       "      <th>max</th>\n",
       "    </tr>\n",
       "  </thead>\n",
       "  <tbody>\n",
       "    <tr>\n",
       "      <th>Pclass</th>\n",
       "      <td>891.0</td>\n",
       "      <td>2.308642</td>\n",
       "      <td>0.836071</td>\n",
       "      <td>1.00</td>\n",
       "      <td>2.0000</td>\n",
       "      <td>3.0000</td>\n",
       "      <td>3.0</td>\n",
       "      <td>3.0000</td>\n",
       "    </tr>\n",
       "    <tr>\n",
       "      <th>Age</th>\n",
       "      <td>714.0</td>\n",
       "      <td>29.699118</td>\n",
       "      <td>14.526497</td>\n",
       "      <td>0.42</td>\n",
       "      <td>20.1250</td>\n",
       "      <td>28.0000</td>\n",
       "      <td>38.0</td>\n",
       "      <td>80.0000</td>\n",
       "    </tr>\n",
       "    <tr>\n",
       "      <th>SibSp</th>\n",
       "      <td>891.0</td>\n",
       "      <td>0.523008</td>\n",
       "      <td>1.102743</td>\n",
       "      <td>0.00</td>\n",
       "      <td>0.0000</td>\n",
       "      <td>0.0000</td>\n",
       "      <td>1.0</td>\n",
       "      <td>8.0000</td>\n",
       "    </tr>\n",
       "    <tr>\n",
       "      <th>Parch</th>\n",
       "      <td>891.0</td>\n",
       "      <td>0.381594</td>\n",
       "      <td>0.806057</td>\n",
       "      <td>0.00</td>\n",
       "      <td>0.0000</td>\n",
       "      <td>0.0000</td>\n",
       "      <td>0.0</td>\n",
       "      <td>6.0000</td>\n",
       "    </tr>\n",
       "    <tr>\n",
       "      <th>Fare</th>\n",
       "      <td>891.0</td>\n",
       "      <td>32.204208</td>\n",
       "      <td>49.693429</td>\n",
       "      <td>0.00</td>\n",
       "      <td>7.9104</td>\n",
       "      <td>14.4542</td>\n",
       "      <td>31.0</td>\n",
       "      <td>512.3292</td>\n",
       "    </tr>\n",
       "    <tr>\n",
       "      <th>EnSex</th>\n",
       "      <td>891.0</td>\n",
       "      <td>0.647587</td>\n",
       "      <td>0.477990</td>\n",
       "      <td>0.00</td>\n",
       "      <td>0.0000</td>\n",
       "      <td>1.0000</td>\n",
       "      <td>1.0</td>\n",
       "      <td>1.0000</td>\n",
       "    </tr>\n",
       "    <tr>\n",
       "      <th>En_Q</th>\n",
       "      <td>891.0</td>\n",
       "      <td>0.086420</td>\n",
       "      <td>0.281141</td>\n",
       "      <td>0.00</td>\n",
       "      <td>0.0000</td>\n",
       "      <td>0.0000</td>\n",
       "      <td>0.0</td>\n",
       "      <td>1.0000</td>\n",
       "    </tr>\n",
       "    <tr>\n",
       "      <th>En_C</th>\n",
       "      <td>891.0</td>\n",
       "      <td>0.188552</td>\n",
       "      <td>0.391372</td>\n",
       "      <td>0.00</td>\n",
       "      <td>0.0000</td>\n",
       "      <td>0.0000</td>\n",
       "      <td>0.0</td>\n",
       "      <td>1.0000</td>\n",
       "    </tr>\n",
       "    <tr>\n",
       "      <th>En_S</th>\n",
       "      <td>891.0</td>\n",
       "      <td>0.722783</td>\n",
       "      <td>0.447876</td>\n",
       "      <td>0.00</td>\n",
       "      <td>0.0000</td>\n",
       "      <td>1.0000</td>\n",
       "      <td>1.0</td>\n",
       "      <td>1.0000</td>\n",
       "    </tr>\n",
       "  </tbody>\n",
       "</table>\n",
       "</div>"
      ],
      "text/plain": [
       "        count       mean        std   min      25%      50%   75%       max\n",
       "Pclass  891.0   2.308642   0.836071  1.00   2.0000   3.0000   3.0    3.0000\n",
       "Age     714.0  29.699118  14.526497  0.42  20.1250  28.0000  38.0   80.0000\n",
       "SibSp   891.0   0.523008   1.102743  0.00   0.0000   0.0000   1.0    8.0000\n",
       "Parch   891.0   0.381594   0.806057  0.00   0.0000   0.0000   0.0    6.0000\n",
       "Fare    891.0  32.204208  49.693429  0.00   7.9104  14.4542  31.0  512.3292\n",
       "EnSex   891.0   0.647587   0.477990  0.00   0.0000   1.0000   1.0    1.0000\n",
       "En_Q    891.0   0.086420   0.281141  0.00   0.0000   0.0000   0.0    1.0000\n",
       "En_C    891.0   0.188552   0.391372  0.00   0.0000   0.0000   0.0    1.0000\n",
       "En_S    891.0   0.722783   0.447876  0.00   0.0000   1.0000   1.0    1.0000"
      ]
     },
     "execution_count": 16,
     "metadata": {},
     "output_type": "execute_result"
    }
   ],
   "source": [
    "X.describe().T"
   ]
  },
  {
   "cell_type": "code",
   "execution_count": 17,
   "id": "076cfec8-decf-415e-856e-a77e3f743b8f",
   "metadata": {},
   "outputs": [
    {
     "data": {
      "text/plain": [
       "0      22.0\n",
       "1      38.0\n",
       "2      26.0\n",
       "3      35.0\n",
       "4      35.0\n",
       "       ... \n",
       "886    27.0\n",
       "887    19.0\n",
       "888     NaN\n",
       "889    26.0\n",
       "890    32.0\n",
       "Name: Age, Length: 891, dtype: float64"
      ]
     },
     "execution_count": 17,
     "metadata": {},
     "output_type": "execute_result"
    }
   ],
   "source": [
    "X[\"Age\"]"
   ]
  },
  {
   "cell_type": "markdown",
   "id": "a81b0463-726f-41f7-8472-5e5d1247f6ed",
   "metadata": {},
   "source": [
    "### Filling in missing values \n",
    "\n",
    "You need to be careful with this, but a method of filling in missing values is replacing all of the missing values of a numeric column with the median value of that column. You can also alternatively use the mean (average). This is a way to not disrupt the distribution of the data or bias the explanatory power of that or other variables. \n",
    "\n"
   ]
  },
  {
   "cell_type": "code",
   "execution_count": 18,
   "id": "885258ac-7ee7-4db2-b8ae-3538cfa3f1ca",
   "metadata": {},
   "outputs": [],
   "source": [
    "X[\"Age\"] = X[\"Age\"].apply(lambda x: 28.0 if np.isnan(x) else x)"
   ]
  },
  {
   "cell_type": "code",
   "execution_count": 19,
   "id": "d53be280-416d-4eba-a246-da987311bc4f",
   "metadata": {},
   "outputs": [
    {
     "name": "stdout",
     "output_type": "stream",
     "text": [
      "<class 'pandas.core.frame.DataFrame'>\n",
      "RangeIndex: 891 entries, 0 to 890\n",
      "Data columns (total 9 columns):\n",
      " #   Column  Non-Null Count  Dtype  \n",
      "---  ------  --------------  -----  \n",
      " 0   Pclass  891 non-null    int64  \n",
      " 1   Age     891 non-null    float64\n",
      " 2   SibSp   891 non-null    int64  \n",
      " 3   Parch   891 non-null    int64  \n",
      " 4   Fare    891 non-null    float64\n",
      " 5   EnSex   891 non-null    int64  \n",
      " 6   En_Q    891 non-null    int64  \n",
      " 7   En_C    891 non-null    int64  \n",
      " 8   En_S    891 non-null    int64  \n",
      "dtypes: float64(2), int64(7)\n",
      "memory usage: 62.8 KB\n"
     ]
    }
   ],
   "source": [
    "X.info()"
   ]
  },
  {
   "cell_type": "code",
   "execution_count": 20,
   "id": "7c9097bf-db1a-4568-ae13-49487a9427fd",
   "metadata": {},
   "outputs": [
    {
     "data": {
      "text/html": [
       "<div>\n",
       "<style scoped>\n",
       "    .dataframe tbody tr th:only-of-type {\n",
       "        vertical-align: middle;\n",
       "    }\n",
       "\n",
       "    .dataframe tbody tr th {\n",
       "        vertical-align: top;\n",
       "    }\n",
       "\n",
       "    .dataframe thead th {\n",
       "        text-align: right;\n",
       "    }\n",
       "</style>\n",
       "<table border=\"1\" class=\"dataframe\">\n",
       "  <thead>\n",
       "    <tr style=\"text-align: right;\">\n",
       "      <th></th>\n",
       "      <th>count</th>\n",
       "      <th>mean</th>\n",
       "      <th>std</th>\n",
       "      <th>min</th>\n",
       "      <th>25%</th>\n",
       "      <th>50%</th>\n",
       "      <th>75%</th>\n",
       "      <th>max</th>\n",
       "    </tr>\n",
       "  </thead>\n",
       "  <tbody>\n",
       "    <tr>\n",
       "      <th>Pclass</th>\n",
       "      <td>891.0</td>\n",
       "      <td>2.308642</td>\n",
       "      <td>0.836071</td>\n",
       "      <td>1.00</td>\n",
       "      <td>2.0000</td>\n",
       "      <td>3.0000</td>\n",
       "      <td>3.0</td>\n",
       "      <td>3.0000</td>\n",
       "    </tr>\n",
       "    <tr>\n",
       "      <th>Age</th>\n",
       "      <td>891.0</td>\n",
       "      <td>29.361582</td>\n",
       "      <td>13.019697</td>\n",
       "      <td>0.42</td>\n",
       "      <td>22.0000</td>\n",
       "      <td>28.0000</td>\n",
       "      <td>35.0</td>\n",
       "      <td>80.0000</td>\n",
       "    </tr>\n",
       "    <tr>\n",
       "      <th>SibSp</th>\n",
       "      <td>891.0</td>\n",
       "      <td>0.523008</td>\n",
       "      <td>1.102743</td>\n",
       "      <td>0.00</td>\n",
       "      <td>0.0000</td>\n",
       "      <td>0.0000</td>\n",
       "      <td>1.0</td>\n",
       "      <td>8.0000</td>\n",
       "    </tr>\n",
       "    <tr>\n",
       "      <th>Parch</th>\n",
       "      <td>891.0</td>\n",
       "      <td>0.381594</td>\n",
       "      <td>0.806057</td>\n",
       "      <td>0.00</td>\n",
       "      <td>0.0000</td>\n",
       "      <td>0.0000</td>\n",
       "      <td>0.0</td>\n",
       "      <td>6.0000</td>\n",
       "    </tr>\n",
       "    <tr>\n",
       "      <th>Fare</th>\n",
       "      <td>891.0</td>\n",
       "      <td>32.204208</td>\n",
       "      <td>49.693429</td>\n",
       "      <td>0.00</td>\n",
       "      <td>7.9104</td>\n",
       "      <td>14.4542</td>\n",
       "      <td>31.0</td>\n",
       "      <td>512.3292</td>\n",
       "    </tr>\n",
       "    <tr>\n",
       "      <th>EnSex</th>\n",
       "      <td>891.0</td>\n",
       "      <td>0.647587</td>\n",
       "      <td>0.477990</td>\n",
       "      <td>0.00</td>\n",
       "      <td>0.0000</td>\n",
       "      <td>1.0000</td>\n",
       "      <td>1.0</td>\n",
       "      <td>1.0000</td>\n",
       "    </tr>\n",
       "    <tr>\n",
       "      <th>En_Q</th>\n",
       "      <td>891.0</td>\n",
       "      <td>0.086420</td>\n",
       "      <td>0.281141</td>\n",
       "      <td>0.00</td>\n",
       "      <td>0.0000</td>\n",
       "      <td>0.0000</td>\n",
       "      <td>0.0</td>\n",
       "      <td>1.0000</td>\n",
       "    </tr>\n",
       "    <tr>\n",
       "      <th>En_C</th>\n",
       "      <td>891.0</td>\n",
       "      <td>0.188552</td>\n",
       "      <td>0.391372</td>\n",
       "      <td>0.00</td>\n",
       "      <td>0.0000</td>\n",
       "      <td>0.0000</td>\n",
       "      <td>0.0</td>\n",
       "      <td>1.0000</td>\n",
       "    </tr>\n",
       "    <tr>\n",
       "      <th>En_S</th>\n",
       "      <td>891.0</td>\n",
       "      <td>0.722783</td>\n",
       "      <td>0.447876</td>\n",
       "      <td>0.00</td>\n",
       "      <td>0.0000</td>\n",
       "      <td>1.0000</td>\n",
       "      <td>1.0</td>\n",
       "      <td>1.0000</td>\n",
       "    </tr>\n",
       "  </tbody>\n",
       "</table>\n",
       "</div>"
      ],
      "text/plain": [
       "        count       mean        std   min      25%      50%   75%       max\n",
       "Pclass  891.0   2.308642   0.836071  1.00   2.0000   3.0000   3.0    3.0000\n",
       "Age     891.0  29.361582  13.019697  0.42  22.0000  28.0000  35.0   80.0000\n",
       "SibSp   891.0   0.523008   1.102743  0.00   0.0000   0.0000   1.0    8.0000\n",
       "Parch   891.0   0.381594   0.806057  0.00   0.0000   0.0000   0.0    6.0000\n",
       "Fare    891.0  32.204208  49.693429  0.00   7.9104  14.4542  31.0  512.3292\n",
       "EnSex   891.0   0.647587   0.477990  0.00   0.0000   1.0000   1.0    1.0000\n",
       "En_Q    891.0   0.086420   0.281141  0.00   0.0000   0.0000   0.0    1.0000\n",
       "En_C    891.0   0.188552   0.391372  0.00   0.0000   0.0000   0.0    1.0000\n",
       "En_S    891.0   0.722783   0.447876  0.00   0.0000   1.0000   1.0    1.0000"
      ]
     },
     "execution_count": 20,
     "metadata": {},
     "output_type": "execute_result"
    }
   ],
   "source": [
    "X.describe().T"
   ]
  },
  {
   "cell_type": "markdown",
   "id": "920b36a7-008a-432f-a55a-8038005758de",
   "metadata": {},
   "source": [
    "### Assumptions of Parametric models\n",
    "\n",
    "Linear regression and other parametric models and analysis assume a few key aspects of the population they are being used on. Namely, they assume that the variables are sampled from normal distributions. As shown below, the cost of a ticket in the Titanic dataset *(Fare variable)* is far from normally distributed. "
   ]
  },
  {
   "cell_type": "code",
   "execution_count": 21,
   "id": "a6b03b71-627f-4e15-8a07-c75ea3525616",
   "metadata": {},
   "outputs": [
    {
     "data": {
      "image/png": "[encoded data removed]",
      "text/plain": [
       "<Figure size 640x480 with 1 Axes>"
      ]
     },
     "metadata": {},
     "output_type": "display_data"
    }
   ],
   "source": [
    "sns.histplot(X[\"Fare\"])\n",
    "plt.xlabel(\"Costs of Ticket\")\n",
    "plt.ylabel(\"Number of Passangers\")\n",
    "plt.show()"
   ]
  },
  {
   "cell_type": "markdown",
   "id": "ddc52d03-c91b-47d4-b493-6989bd47fb9b",
   "metadata": {},
   "source": [
    "#### Feature Engineering: Median for Missing Values\n",
    "\n",
    "A quick way to fill in a few missing values for a numeric column is to replace the missing values with the median value of that column. For example, **Fare** has 14 values that are 0. It could be that those passangers boarded the ship for free but I assume those values are missing. **Note: a decision to change values in the data requires way more research to backup your decision than I just did here!** \n",
    "\n",
    "Below I fill in the 0 values of Fare with the median value of Fare. \n",
    "\n",
    "The code reads as such: \n",
    "- filter X on X column \"Fare\" \n",
    "- for a value of 0 \n",
    "- and assign that entry with \n",
    "- a value of the median value.\n",
    "\n"
   ]
  },
  {
   "cell_type": "code",
   "execution_count": 22,
   "id": "961ea068-abcc-4942-970a-540cec586758",
   "metadata": {},
   "outputs": [],
   "source": [
    "# X[X[\"Fare\"] == 0] = np.median(X[\"Fare\"])"
   ]
  },
  {
   "cell_type": "markdown",
   "id": "b2832bd1-2fca-468e-922e-1d7c1d51e711",
   "metadata": {},
   "source": [
    "### Feature Engineering: Log-transform \n",
    "\n",
    "As shown above, the Fare column does not follow a bell shaped curve, *i.e. it is not normally distributed*. That violates an assumption of Linear Regression and other parametric models. A way to resolve this issue is to log transform the column. "
   ]
  },
  {
   "cell_type": "code",
   "execution_count": 23,
   "id": "9c3c996e-625d-4732-8d6a-620cdbb71c10",
   "metadata": {},
   "outputs": [
    {
     "name": "stderr",
     "output_type": "stream",
     "text": [
      "/Users/macbookair/miniconda3/lib/python3.10/site-packages/pandas/core/arraylike.py:396: RuntimeWarning: divide by zero encountered in log\n",
      "  result = getattr(ufunc, method)(*inputs, **kwargs)\n"
     ]
    },
    {
     "data": {
      "image/png": "[encoded data removed]",
      "text/plain": [
       "<Figure size 640x480 with 1 Axes>"
      ]
     },
     "metadata": {},
     "output_type": "display_data"
    }
   ],
   "source": [
    "sns.histplot(np.log(X[\"Fare\"]))\n",
    "plt.xlabel(\"Costs of Ticket\")\n",
    "plt.ylabel(\"Number of Passangers\")\n",
    "plt.show()"
   ]
  },
  {
   "cell_type": "markdown",
   "id": "421c2748-ba0b-4147-bf19-0d9c4913bcd6",
   "metadata": {},
   "source": [
    "### This is NOT Normal! \n",
    "\n",
    "The curve is *\"better\"* but it is still not normal. Guess what many, if not most, researchers would do...\n",
    "\n",
    "**keep going as if it were normal!** \n",
    "\n",
    "I am pointing this out because it should be known that most use of our models are done despite assumptions (*i.e. requirements*) not being met. This can have cascading effects, including misleading results, both Types of Errors, and inflation of significance. \n",
    "\n",
    "Note the section below where we will revisit the idea of how this can effect Error Types! "
   ]
  },
  {
   "cell_type": "markdown",
   "id": "2e73ef43-2a54-45e7-8b61-443f145f5d67",
   "metadata": {},
   "source": [
    "### Summary: Bias-Variance Tradeoff \n",
    "\n",
    "A quick overview and summary. \n",
    "\n",
    "High bias can lead to underfitting. \n",
    "\n",
    "High variance can lead to overfitting. \n",
    "\n",
    "### Type II Errors and Underfitting \n",
    "\n",
    "Type II Errors are false-negatives. That is when we find no pattern despite there actually being one. It would be when we fail to reject the null hypothesis despite there being a true difference between groups. Further, as shown above, using Linear functions on non-Linear data can result in high bias in your model, underfitting, and, thus, Type II Errors! \n",
    "\n",
    "I would also argue that underfitting causes Type I Errors in the same way. Think about this, if you fit a Linear Regression to some kind of curved data, you will find a pattern when there is not one in the space where your data actually curves around. Thus, Type I Error: **false-positive**. \n"
   ]
  },
  {
   "cell_type": "code",
   "execution_count": 24,
   "id": "99ae0a21-13d2-4aef-9f1d-88a14abe3244",
   "metadata": {},
   "outputs": [
    {
     "data": {
      "image/png": "[encoded data removed]",
      "text/plain": [
       "<Figure size 1200x1000 with 1 Axes>"
      ]
     },
     "metadata": {},
     "output_type": "display_data"
    }
   ],
   "source": [
    "from scipy import stats\n",
    "\n",
    "plt.figure(figsize=(12,10))\n",
    "\n",
    "\n",
    "plt.fill_between(x=np.arange(-4,-2,0.01), \n",
    "                 y1= stats.norm.pdf(np.arange(-4,-2,0.01)) ,\n",
    "                 facecolor='red',\n",
    "                 alpha=0.35)\n",
    "\n",
    "plt.fill_between(x=np.arange(-2,2,0.01), \n",
    "                 y1= stats.norm.pdf(np.arange(-2,2,0.01)) ,\n",
    "                 facecolor='grey',\n",
    "                 alpha=0.35)\n",
    "\n",
    "plt.fill_between(x=np.arange(2,4,0.01), \n",
    "                 y1= stats.norm.pdf(np.arange(2,4,0.01)) ,\n",
    "                 facecolor='red',\n",
    "                 alpha=0.5)\n",
    "\n",
    "plt.fill_between(x=np.arange(-4,-2,0.01), \n",
    "                 y1= stats.norm.pdf(np.arange(-4,-2,0.01),loc=3, scale=2) ,\n",
    "                 facecolor='grey',\n",
    "                 alpha=0.35)\n",
    "\n",
    "plt.fill_between(x=np.arange(-2,2,0.01), \n",
    "                 y1= stats.norm.pdf(np.arange(-2,2,0.01),loc=3, scale=2) ,\n",
    "                 facecolor='blue',\n",
    "                 alpha=0.35)\n",
    "\n",
    "plt.fill_between(x=np.arange(2,10,0.01), \n",
    "                 y1= stats.norm.pdf(np.arange(2,10,0.01),loc=3, scale=2),\n",
    "                 facecolor='grey',\n",
    "                 alpha=0.35)\n",
    "\n",
    "plt.text(x=-0.8, y=0.15, s= \"Null Hypothesis\")\n",
    "plt.text(x=2.5, y=0.13, s= \"Alternative\")\n",
    "plt.text(x=2.1, y=0.01, s= \"Type 1 Error\")\n",
    "plt.text(x=-3.2, y=0.01, s= \"Type 1 Error\")\n",
    "plt.text(x=0, y=0.02, s= \"Type 2 Error\");\n"
   ]
  },
  {
   "cell_type": "markdown",
   "id": "3e407a04-a5fd-4a40-ac11-4fa8f8a412ee",
   "metadata": {},
   "source": [
    "### What is a p-value?\n",
    "\n",
    "Simply, the probability that the effect (*i.e. pattern*) would occur if the null hypothesis was true. The null hypothesis is that there is no difference between the groups - **e.g. no difference between means of groups A and B.** \n",
    "\n",
    "In the above plot, we show two situations. Think about this as a comparison of two situations showing on the same plot. \n",
    "\n",
    "#### How to Interpret\n",
    "\n",
    "Interpret this plot as if it is showing the true population distribution of a group called **\"Null Hypothesis\"** and then another group called **\"Alternative\"**. The Null Hypothesis states that the two groups being compared are drawn from the same population - *i.e. both are from the Null Hypothesis distribution*. The Alternative hypothesis rejects the Null and, thus, assumes one of the groups is drawn from Null Hypothesis distribution and the other is drawn from the Alternative distribution. \n",
    "\n",
    "**Scenario 1: Type I Error** \n",
    "\n",
    "We always sample from a population. All data we analyze are samples from populations in the universe. This Titanic data is a sample of all of the actual passangers that were on the Titanic. We can perform Type I Errors (*false-positive*) if we compare groups of samples from the same distrubtion but end up capturing the extremes of the values. We find significant difference between the groups despite them being samples from the same population.\n",
    "\n",
    "**Scenario 2: Type II Error** \n",
    "\n",
    "In this scenario we have a group of samples from Null Hypothesis distribution and another group of samples from Alternative distribution. We might find no significant difference between the groups due to the nature of sampling and variance. In this scenario, we can perform Type II Errors (*false-negative*). We do not find significance despite there actually being differences. \n",
    "\n"
   ]
  },
  {
   "cell_type": "markdown",
   "id": "b4a8648c-1189-46e9-8054-0b30543235da",
   "metadata": {},
   "source": []
  },
  {
   "cell_type": "markdown",
   "id": "3cb196dd-9105-4a10-aada-a43a5f7280ed",
   "metadata": {},
   "source": [
    "### The Costs of Aging \n",
    "\n",
    "The scatterplot below shows the costs of tickets paid by the age of those that paid them. Let's look at the assumptions of Linear Regression and parametric models. "
   ]
  },
  {
   "cell_type": "code",
   "execution_count": 27,
   "id": "b447cc3c-63cc-4460-a2ed-3ab791ad4c8d",
   "metadata": {},
   "outputs": [],
   "source": [
    "#plt.scatter(X[\"Fare\"], X[\"Age\"])\n",
    "#plt.xlabel(\"Cost of Ticket\")\n",
    "#plt.ylabel(\"Age of Passenger\")\n",
    "#plt.show()"
   ]
  },
  {
   "cell_type": "code",
   "execution_count": 28,
   "id": "12e484c8-758a-49a1-9213-cfbf8c68598e",
   "metadata": {},
   "outputs": [
    {
     "data": {
      "image/png": "[encoded data removed]",
      "text/plain": [
       "<Figure size 640x480 with 1 Axes>"
      ]
     },
     "metadata": {},
     "output_type": "display_data"
    }
   ],
   "source": [
    "sns.scatterplot(x = X[\"Fare\"], y = X[\"Age\"])\n",
    "plt.xlabel(\"Cost of Ticket\")\n",
    "plt.ylabel(\"Age of Passanger\")\n",
    "plt.show()"
   ]
  },
  {
   "cell_type": "code",
   "execution_count": 29,
   "id": "7bf192f9-d8ad-4e84-825a-ba4544d640c1",
   "metadata": {},
   "outputs": [
    {
     "name": "stderr",
     "output_type": "stream",
     "text": [
      "/Users/macbookair/miniconda3/lib/python3.10/site-packages/pandas/core/arraylike.py:396: RuntimeWarning: divide by zero encountered in log\n",
      "  result = getattr(ufunc, method)(*inputs, **kwargs)\n"
     ]
    },
    {
     "data": {
      "text/plain": [
       "<Axes: xlabel='Fare', ylabel='Age'>"
      ]
     },
     "execution_count": 29,
     "metadata": {},
     "output_type": "execute_result"
    },
    {
     "data": {
      "image/png": "[encoded data removed]",
      "text/plain": [
       "<Figure size 640x480 with 1 Axes>"
      ]
     },
     "metadata": {},
     "output_type": "display_data"
    }
   ],
   "source": [
    "sns.histplot(x=np.log(X[\"Fare\"]), y=X[\"Age\"])"
   ]
  },
  {
   "cell_type": "markdown",
   "id": "4213ced6-9db4-4d59-8d6b-7896e2abe8ba",
   "metadata": {},
   "source": [
    "## Assumptions of Linear Regression \n",
    "\n",
    "One of the assumptions of Linear Regression is an absence of **multicollinearity**. Although this is explicit to Linear Regression, it is implicit to the quality of many models and various forms of analysis. Multicollinearity is the idea that a variable is impacting another variable(s). A way to quantify this is a metric known as the **Variance Inflation Factor**. \n",
    "\n",
    "As the name implies, the VIF is a measure of how much the behavior, *i.e. variance*, of an independent variable is being impacted or inflated by other independent variables. Here is a clear example: \n",
    "\n",
    "Imagine you have a dataset of salaries based on various people. Some of the data about the people include their age and their years of experience working. Notice: you cannot have 20 years of experience working if you are only 18 years old. Along this logic, you can see how age and years of experience working are two independent variables that are highly correlated. Moreso, years of experience is a function of age. \n",
    "\n"
   ]
  },
  {
   "cell_type": "code",
   "execution_count": 33,
   "id": "2e8d00d3-00d0-4ab5-9a17-8836ad8921aa",
   "metadata": {},
   "outputs": [
    {
     "data": {
      "text/html": [
       "<div>\n",
       "<style scoped>\n",
       "    .dataframe tbody tr th:only-of-type {\n",
       "        vertical-align: middle;\n",
       "    }\n",
       "\n",
       "    .dataframe tbody tr th {\n",
       "        vertical-align: top;\n",
       "    }\n",
       "\n",
       "    .dataframe thead th {\n",
       "        text-align: right;\n",
       "    }\n",
       "</style>\n",
       "<table border=\"1\" class=\"dataframe\">\n",
       "  <thead>\n",
       "    <tr style=\"text-align: right;\">\n",
       "      <th></th>\n",
       "      <th>feature</th>\n",
       "      <th>VIF</th>\n",
       "    </tr>\n",
       "  </thead>\n",
       "  <tbody>\n",
       "    <tr>\n",
       "      <th>0</th>\n",
       "      <td>Pclass</td>\n",
       "      <td>14.806711</td>\n",
       "    </tr>\n",
       "    <tr>\n",
       "      <th>1</th>\n",
       "      <td>Age</td>\n",
       "      <td>7.074513</td>\n",
       "    </tr>\n",
       "    <tr>\n",
       "      <th>2</th>\n",
       "      <td>SibSp</td>\n",
       "      <td>1.573303</td>\n",
       "    </tr>\n",
       "    <tr>\n",
       "      <th>3</th>\n",
       "      <td>Parch</td>\n",
       "      <td>1.631310</td>\n",
       "    </tr>\n",
       "    <tr>\n",
       "      <th>4</th>\n",
       "      <td>Fare</td>\n",
       "      <td>2.298555</td>\n",
       "    </tr>\n",
       "    <tr>\n",
       "      <th>5</th>\n",
       "      <td>EnSex</td>\n",
       "      <td>3.204204</td>\n",
       "    </tr>\n",
       "    <tr>\n",
       "      <th>6</th>\n",
       "      <td>En_Q</td>\n",
       "      <td>3.897000</td>\n",
       "    </tr>\n",
       "    <tr>\n",
       "      <th>7</th>\n",
       "      <td>En_C</td>\n",
       "      <td>5.998448</td>\n",
       "    </tr>\n",
       "    <tr>\n",
       "      <th>8</th>\n",
       "      <td>En_S</td>\n",
       "      <td>21.487085</td>\n",
       "    </tr>\n",
       "  </tbody>\n",
       "</table>\n",
       "</div>"
      ],
      "text/plain": [
       "  feature        VIF\n",
       "0  Pclass  14.806711\n",
       "1     Age   7.074513\n",
       "2   SibSp   1.573303\n",
       "3   Parch   1.631310\n",
       "4    Fare   2.298555\n",
       "5   EnSex   3.204204\n",
       "6    En_Q   3.897000\n",
       "7    En_C   5.998448\n",
       "8    En_S  21.487085"
      ]
     },
     "execution_count": 33,
     "metadata": {},
     "output_type": "execute_result"
    }
   ],
   "source": [
    "from statsmodels.stats.outliers_influence import variance_inflation_factor\n",
    "\n",
    "vif_data = pd.DataFrame()\n",
    "vif_data[\"feature\"] = X.columns\n",
    "\n",
    "vif_data[\"VIF\"] = [variance_inflation_factor(X.values, i) for i in range(len(X.columns))]\n",
    "\n",
    "vif_data"
   ]
  },
  {
   "cell_type": "markdown",
   "id": "5729006f-926f-41df-ac3f-e2c0998042ea",
   "metadata": {},
   "source": [
    "### PClass has high VIF \n",
    "\n",
    "PClass has a ton of interaction with other independent variables and should therefore be removed. Afterwards, we check the VIF of the whole dataset (feature by feature) again. "
   ]
  },
  {
   "cell_type": "code",
   "execution_count": 34,
   "id": "97ca686f-d71f-4446-a63b-a73f34fc47f1",
   "metadata": {},
   "outputs": [],
   "source": [
    "X.drop(\"Pclass\", axis = 1, inplace = True)"
   ]
  },
  {
   "cell_type": "code",
   "execution_count": 35,
   "id": "942a382c-d61a-46d2-a874-3800875d7f18",
   "metadata": {},
   "outputs": [
    {
     "data": {
      "text/html": [
       "<div>\n",
       "<style scoped>\n",
       "    .dataframe tbody tr th:only-of-type {\n",
       "        vertical-align: middle;\n",
       "    }\n",
       "\n",
       "    .dataframe tbody tr th {\n",
       "        vertical-align: top;\n",
       "    }\n",
       "\n",
       "    .dataframe thead th {\n",
       "        text-align: right;\n",
       "    }\n",
       "</style>\n",
       "<table border=\"1\" class=\"dataframe\">\n",
       "  <thead>\n",
       "    <tr style=\"text-align: right;\">\n",
       "      <th></th>\n",
       "      <th>feature</th>\n",
       "      <th>VIF</th>\n",
       "    </tr>\n",
       "  </thead>\n",
       "  <tbody>\n",
       "    <tr>\n",
       "      <th>0</th>\n",
       "      <td>Age</td>\n",
       "      <td>6.511407</td>\n",
       "    </tr>\n",
       "    <tr>\n",
       "      <th>1</th>\n",
       "      <td>SibSp</td>\n",
       "      <td>1.558931</td>\n",
       "    </tr>\n",
       "    <tr>\n",
       "      <th>2</th>\n",
       "      <td>Parch</td>\n",
       "      <td>1.615669</td>\n",
       "    </tr>\n",
       "    <tr>\n",
       "      <th>3</th>\n",
       "      <td>Fare</td>\n",
       "      <td>1.706425</td>\n",
       "    </tr>\n",
       "    <tr>\n",
       "      <th>4</th>\n",
       "      <td>EnSex</td>\n",
       "      <td>3.158837</td>\n",
       "    </tr>\n",
       "    <tr>\n",
       "      <th>5</th>\n",
       "      <td>En_Q</td>\n",
       "      <td>1.578023</td>\n",
       "    </tr>\n",
       "    <tr>\n",
       "      <th>6</th>\n",
       "      <td>En_C</td>\n",
       "      <td>2.667378</td>\n",
       "    </tr>\n",
       "    <tr>\n",
       "      <th>7</th>\n",
       "      <td>En_S</td>\n",
       "      <td>7.337801</td>\n",
       "    </tr>\n",
       "  </tbody>\n",
       "</table>\n",
       "</div>"
      ],
      "text/plain": [
       "  feature       VIF\n",
       "0     Age  6.511407\n",
       "1   SibSp  1.558931\n",
       "2   Parch  1.615669\n",
       "3    Fare  1.706425\n",
       "4   EnSex  3.158837\n",
       "5    En_Q  1.578023\n",
       "6    En_C  2.667378\n",
       "7    En_S  7.337801"
      ]
     },
     "execution_count": 35,
     "metadata": {},
     "output_type": "execute_result"
    }
   ],
   "source": [
    "vif_data = pd.DataFrame()\n",
    "vif_data[\"feature\"] = X.columns\n",
    "\n",
    "vif_data[\"VIF\"] = [variance_inflation_factor(X.values, i) for i in range(len(X.columns))]\n",
    "\n",
    "vif_data"
   ]
  },
  {
   "cell_type": "markdown",
   "id": "a241c51a-35d3-4824-ab7c-b14f4bc14c73",
   "metadata": {},
   "source": [
    "## Curse of Complexity\n",
    "\n",
    "In Science, we are constantly making simplier models of more complex systems. For example, a **t-test** is a statistical test for finding a statistically significant difference in means of two groups. This might seem obvious, but the entries or data points in each group are more than just a mean and average amount of variance. When we perform a **t-test** (*and many other statistical tests for that matter*), we are simply modeling each group of data points as an average value and average amount of variance between all of the intra-group points. The actual system, *i.e. the data points of each group*, is a more complex story. \n",
    "\n",
    "A common issue that arises - though, not discussed as often as I would like - is the amount of bias we are injecting into our model when we use relatively simple models for relatively complex or high-dimensional systems. Namely, the many assumptions of Linear Regression (*and other parametric tests*) are not met fully or completely in many instances where it is used. Worse is when Linear Regression is used to model a system that is not Linear. Using a Linear function to model a non-Linear system is a way to add high bias into your model and potentially **underfit** the data.  "
   ]
  },
  {
   "cell_type": "code",
   "execution_count": 43,
   "id": "9c93e283-91ca-46d3-a492-f0792d154d05",
   "metadata": {},
   "outputs": [
    {
     "data": {
      "text/html": [
       "<div>\n",
       "<style scoped>\n",
       "    .dataframe tbody tr th:only-of-type {\n",
       "        vertical-align: middle;\n",
       "    }\n",
       "\n",
       "    .dataframe tbody tr th {\n",
       "        vertical-align: top;\n",
       "    }\n",
       "\n",
       "    .dataframe thead th {\n",
       "        text-align: right;\n",
       "    }\n",
       "</style>\n",
       "<table border=\"1\" class=\"dataframe\">\n",
       "  <thead>\n",
       "    <tr style=\"text-align: right;\">\n",
       "      <th></th>\n",
       "      <th>Age</th>\n",
       "      <th>SibSp</th>\n",
       "      <th>Parch</th>\n",
       "      <th>Fare</th>\n",
       "      <th>EnSex</th>\n",
       "      <th>En_Q</th>\n",
       "      <th>En_C</th>\n",
       "      <th>En_S</th>\n",
       "      <th>Survived</th>\n",
       "    </tr>\n",
       "  </thead>\n",
       "  <tbody>\n",
       "    <tr>\n",
       "      <th>0</th>\n",
       "      <td>22.0</td>\n",
       "      <td>1</td>\n",
       "      <td>0</td>\n",
       "      <td>7.2500</td>\n",
       "      <td>1</td>\n",
       "      <td>0</td>\n",
       "      <td>0</td>\n",
       "      <td>1</td>\n",
       "      <td>0</td>\n",
       "    </tr>\n",
       "    <tr>\n",
       "      <th>1</th>\n",
       "      <td>38.0</td>\n",
       "      <td>1</td>\n",
       "      <td>0</td>\n",
       "      <td>71.2833</td>\n",
       "      <td>0</td>\n",
       "      <td>0</td>\n",
       "      <td>1</td>\n",
       "      <td>0</td>\n",
       "      <td>1</td>\n",
       "    </tr>\n",
       "    <tr>\n",
       "      <th>2</th>\n",
       "      <td>26.0</td>\n",
       "      <td>0</td>\n",
       "      <td>0</td>\n",
       "      <td>7.9250</td>\n",
       "      <td>0</td>\n",
       "      <td>0</td>\n",
       "      <td>0</td>\n",
       "      <td>1</td>\n",
       "      <td>1</td>\n",
       "    </tr>\n",
       "    <tr>\n",
       "      <th>3</th>\n",
       "      <td>35.0</td>\n",
       "      <td>1</td>\n",
       "      <td>0</td>\n",
       "      <td>53.1000</td>\n",
       "      <td>0</td>\n",
       "      <td>0</td>\n",
       "      <td>0</td>\n",
       "      <td>1</td>\n",
       "      <td>1</td>\n",
       "    </tr>\n",
       "    <tr>\n",
       "      <th>4</th>\n",
       "      <td>35.0</td>\n",
       "      <td>0</td>\n",
       "      <td>0</td>\n",
       "      <td>8.0500</td>\n",
       "      <td>1</td>\n",
       "      <td>0</td>\n",
       "      <td>0</td>\n",
       "      <td>1</td>\n",
       "      <td>0</td>\n",
       "    </tr>\n",
       "  </tbody>\n",
       "</table>\n",
       "</div>"
      ],
      "text/plain": [
       "    Age  SibSp  Parch     Fare  EnSex  En_Q  En_C  En_S  Survived\n",
       "0  22.0      1      0   7.2500      1     0     0     1         0\n",
       "1  38.0      1      0  71.2833      0     0     1     0         1\n",
       "2  26.0      0      0   7.9250      0     0     0     1         1\n",
       "3  35.0      1      0  53.1000      0     0     0     1         1\n",
       "4  35.0      0      0   8.0500      1     0     0     1         0"
      ]
     },
     "execution_count": 43,
     "metadata": {},
     "output_type": "execute_result"
    }
   ],
   "source": [
    "XYdata = X \n",
    "XYdata[\"Survived\"] = Y\n",
    "XYdata.head()"
   ]
  },
  {
   "cell_type": "code",
   "execution_count": 44,
   "id": "2c2afc64-ee68-4485-8e95-217ec5a99bea",
   "metadata": {},
   "outputs": [
    {
     "data": {
      "text/plain": [
       "<seaborn.axisgrid.FacetGrid at 0x148454f40>"
      ]
     },
     "execution_count": 44,
     "metadata": {},
     "output_type": "execute_result"
    },
    {
     "data": {
      "image/png": "[encoded data removed]",
      "text/plain": [
       "<Figure size 572.111x500 with 1 Axes>"
      ]
     },
     "metadata": {},
     "output_type": "display_data"
    }
   ],
   "source": [
    "sns.lmplot(x = \"Fare\", y = \"Age\", hue = \"Survived\", data = XYdata)"
   ]
  },
  {
   "cell_type": "markdown",
   "id": "1cadf3e2-3272-438e-913b-aa4bb4e77a85",
   "metadata": {},
   "source": [
    "## Underfitting in the Flesh  \n",
    "\n",
    "The above is an example of what can happen when we try to use simple models to gain insight into relatively complex data. I know the above looks chaotic but I can assure you that these sort of mistakes in analysis happen in: **government analysis, news, science research, people's logic during debates,** and the list goes on and on. \n",
    "\n",
    "### Interpret Chaos\n",
    "\n",
    "The above is two Linear Regressions performed on two groups of **Age** and **Fare** data. The two groups were those that survived and those that did not. This data does not meet two of the important assumptions of Linear Regression: normal distribution of the variables and homogeneity of the variance of the variables. Thus, Linear Regression should never have been used. But let's say it was. \n",
    "\n",
    "These lines are supposed to give you insight into the trend between the age of someone, how much they paid, and if they survived or not. In addition to the complexity issue from this being non-Linear data being forced into a Linear model, there are obvious issues with outliers. Outliers, far right orange dots of extremely expensive fares, add layers of complexity in the distribution of data, the summary statistics, and the trends being forced to the data. \n",
    "\n",
    "This example gives a lot of visual cues that something was not correct in the analysis and modeling of the data. That is why I used this. And to show that sometimes these are the sort of models that are performed and then we just get summary statistics about. \n",
    "\n",
    "### High Bias \n",
    "\n",
    "These Linear Regression models plotted here are extreme examples of simple models being forced on highly complex data. This dramatically increases bias and, thus, potential to be underfitting the data. In other words, failing to capture the actual pattern that exists...**i.e. false negative = Type II Error**. "
   ]
  },
  {
   "cell_type": "code",
   "execution_count": null,
   "id": "c271f3df-2356-4e24-ae80-d6d6f873eb8c",
   "metadata": {},
   "outputs": [],
   "source": []
  }
 ],
 "metadata": {
  "kernelspec": {
   "display_name": "Python 3 (ipykernel)",
   "language": "python",
   "name": "python3"
  },
  "language_info": {
   "codemirror_mode": {
    "name": "ipython",
    "version": 3
   },
   "file_extension": ".py",
   "mimetype": "text/x-python",
   "name": "python",
   "nbconvert_exporter": "python",
   "pygments_lexer": "ipython3",
   "version": "3.10.9"
  }
 },
 "nbformat": 4,
 "nbformat_minor": 5
}
